{
 "cells": [
  {
   "cell_type": "markdown",
   "id": "6fa16f94",
   "metadata": {},
   "source": [
    " Import Libraries and Load Data"
   ]
  },
  {
   "cell_type": "code",
   "execution_count": null,
   "id": "cb720565",
   "metadata": {
    "vscode": {
     "languageId": "plaintext"
    }
   },
   "outputs": [],
   "source": [
    "import pandas as pd\n",
    "import numpy as np\n",
    "import seaborn as sns\n",
    "import matplotlib.pyplot as plt\n",
    "from scipy import stats\n",
    "import plotly.express as px\n",
    "\n",
    "# Load dataset\n",
    "df = pd.read_csv(\"data/sierra_leone.csv\", parse_dates=['Timestamp'])\n"
   ]
  },
  {
   "cell_type": "markdown",
   "id": "57262a87",
   "metadata": {},
   "source": [
    "Outlier Detection (Z-Score Method)"
   ]
  },
  {
   "cell_type": "code",
   "execution_count": null,
   "id": "555aa43a",
   "metadata": {
    "vscode": {
     "languageId": "plaintext"
    }
   },
   "outputs": [],
   "source": [
    "from scipy.stats import zscore\n",
    "\n",
    "cols_to_check = ['GHI', 'DNI', 'DHI', 'ModA', 'ModB', 'WS', 'WSgust']\n",
    "z_scores = df[cols_to_check].apply(zscore)\n",
    "outliers = (np.abs(z_scores) > 3)\n",
    "\n",
    "# Outlier percentage\n",
    "outliers.sum() / len(df)\n",
    "\n",
    "# Handle missing and outliers\n",
    "df[cols_to_check] = df[cols_to_check].fillna(df[cols_to_check].median())\n",
    "df = df[~(np.abs(z_scores) > 3).any(axis=1)]\n"
   ]
  },
  {
   "cell_type": "markdown",
   "id": "cda9c26d",
   "metadata": {},
   "source": [
    "Time Series Analysis"
   ]
  },
  {
   "cell_type": "code",
   "execution_count": null,
   "id": "c95b9b40",
   "metadata": {
    "vscode": {
     "languageId": "plaintext"
    }
   },
   "outputs": [],
   "source": [
    "df.set_index('Timestamp')[['GHI', 'DNI', 'DHI', 'Tamb']].plot(figsize=(15,5))\n",
    "plt.title('Solar Irradiance & Temperature Over Time')\n",
    "\n",
    "df['Month'] = df['Timestamp'].dt.month\n",
    "df.groupby('Month')[['GHI', 'DNI', 'DHI']].mean().plot(kind='bar', figsize=(10,5))\n"
   ]
  },
  {
   "cell_type": "markdown",
   "id": "e15a6462",
   "metadata": {},
   "source": [
    "Cleaning Impact"
   ]
  },
  {
   "cell_type": "code",
   "execution_count": null,
   "id": "8b1b3a62",
   "metadata": {
    "vscode": {
     "languageId": "plaintext"
    }
   },
   "outputs": [],
   "source": [
    "df.groupby('Cleaning')[['ModA', 'ModB']].mean().plot(kind='bar', title='Sensor Output Before/After Cleaning')\n"
   ]
  },
  {
   "cell_type": "markdown",
   "id": "0004b216",
   "metadata": {},
   "source": [
    "Correlation Analysis"
   ]
  },
  {
   "cell_type": "code",
   "execution_count": null,
   "id": "1688f059",
   "metadata": {
    "vscode": {
     "languageId": "plaintext"
    }
   },
   "outputs": [],
   "source": [
    "plt.figure(figsize=(10,6))\n",
    "sns.heatmap(df[['GHI', 'DNI', 'DHI', 'TModA', 'TModB']].corr(), annot=True, cmap='coolwarm')\n",
    "\n",
    "sns.scatterplot(data=df, x='WS', y='GHI')\n",
    "sns.scatterplot(data=df, x='RH', y='Tamb')\n"
   ]
  },
  {
   "cell_type": "markdown",
   "id": "01533a27",
   "metadata": {},
   "source": [
    "Wind & Distribution"
   ]
  },
  {
   "cell_type": "code",
   "execution_count": null,
   "id": "d1b53d4f",
   "metadata": {
    "vscode": {
     "languageId": "plaintext"
    }
   },
   "outputs": [],
   "source": [
    "# Optional: Wind Rose\n",
    "# pip install windrose\n",
    "\n",
    "from windrose import WindroseAxes\n",
    "ax = WindroseAxes.from_ax()\n",
    "ax.bar(df['WD'], df['WS'], normed=True, opening=0.8, edgecolor='white')\n",
    "ax.set_title(\"Wind Rose\")\n",
    "\n",
    "# Histograms\n",
    "df[['GHI', 'WS']].hist(bins=30, figsize=(10,5))\n"
   ]
  },
  {
   "cell_type": "markdown",
   "id": "8b4c19ba",
   "metadata": {},
   "source": [
    "Temperature, Humidity & Bubble Plot"
   ]
  },
  {
   "cell_type": "code",
   "execution_count": null,
   "id": "ec417eb0",
   "metadata": {
    "vscode": {
     "languageId": "plaintext"
    }
   },
   "outputs": [],
   "source": [
    "plt.figure(figsize=(10,6))\n",
    "plt.scatter(df['GHI'], df['Tamb'], s=df['RH'], alpha=0.5)\n",
    "plt.xlabel(\"GHI\")\n",
    "plt.ylabel(\"Ambient Temp\")\n",
    "plt.title(\"GHI vs. Temperature (Bubble size = RH)\")\n"
   ]
  },
  {
   "cell_type": "markdown",
   "id": "0ed5a38e",
   "metadata": {},
   "source": [
    "Export Clean Data"
   ]
  },
  {
   "cell_type": "code",
   "execution_count": null,
   "id": "c0ab4636",
   "metadata": {
    "vscode": {
     "languageId": "plaintext"
    }
   },
   "outputs": [],
   "source": [
    "df.to_csv(\"data/sierra_leone_clean.csv\", index=False)\n"
   ]
  }
 ],
 "metadata": {
  "language_info": {
   "name": "python"
  }
 },
 "nbformat": 4,
 "nbformat_minor": 5
}
