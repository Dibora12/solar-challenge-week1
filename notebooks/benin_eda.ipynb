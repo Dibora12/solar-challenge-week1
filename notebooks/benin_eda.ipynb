{
 "cells": [
  {
   "cell_type": "markdown",
   "id": "731bcdf1",
   "metadata": {},
   "source": [
    "# Benin Solar Data - Exploratory Data Analysis (EDA)\n",
    "\n",
    "This notebook covers the full EDA process for Benin's solar dataset as part of the region-ranking project."
   ]
  },
  {
   "cell_type": "code",
   "execution_count": null,
   "id": "4d26c237",
   "metadata": {},
   "outputs": [],
   "source": [
    "\n",
    "import pandas as pd\n",
    "import numpy as np\n",
    "import matplotlib.pyplot as plt\n",
    "import seaborn as sns\n",
    "from scipy.stats import zscore\n",
    "\n",
    "# Load dataset\n",
    "df = pd.read_csv('data/benin.csv', parse_dates=['Timestamp'])\n",
    "df.head()\n"
   ]
  },
  {
   "cell_type": "markdown",
   "id": "9d1a1f03",
   "metadata": {},
   "source": [
    "## Summary Statistics & Missing Value Report"
   ]
  },
  {
   "cell_type": "code",
   "execution_count": null,
   "id": "5952188e",
   "metadata": {},
   "outputs": [],
   "source": [
    "\n",
    "# Summary statistics\n",
    "df.describe()\n"
   ]
  },
  {
   "cell_type": "code",
   "execution_count": null,
   "id": "889ae467",
   "metadata": {},
   "outputs": [],
   "source": [
    "\n",
    "# Missing values report\n",
    "missing = df.isna().sum()\n",
    "missing[missing > 0].sort_values(ascending=False)\n"
   ]
  },
  {
   "cell_type": "code",
   "execution_count": null,
   "id": "ed6ae894",
   "metadata": {},
   "outputs": [],
   "source": [
    "\n",
    "# Columns with >5% missing values\n",
    "missing_percent = (df.isna().sum() / len(df)) * 100\n",
    "missing_percent[missing_percent > 5]\n"
   ]
  },
  {
   "cell_type": "markdown",
   "id": "3c80c6a7",
   "metadata": {},
   "source": [
    "## Outlier Detection & Basic Cleaning"
   ]
  },
  {
   "cell_type": "code",
   "execution_count": null,
   "id": "ca69d0b6",
   "metadata": {},
   "outputs": [],
   "source": [
    "\n",
    "cols = ['GHI', 'DNI', 'DHI', 'ModA', 'ModB', 'WS', 'WSgust']\n",
    "z_scores = df[cols].apply(zscore)\n",
    "(z_scores.abs() > 3).sum()\n"
   ]
  },
  {
   "cell_type": "code",
   "execution_count": null,
   "id": "4a2b283c",
   "metadata": {},
   "outputs": [],
   "source": [
    "\n",
    "# Impute missing values with median\n",
    "for col in cols:\n",
    "    df[col].fillna(df[col].median(), inplace=True)\n",
    "\n",
    "# Drop extreme outliers\n",
    "df_clean = df[(z_scores.abs() <= 3).all(axis=1)]\n"
   ]
  },
  {
   "cell_type": "markdown",
   "id": "e49b6936",
   "metadata": {},
   "source": [
    "## Time Series Analysis"
   ]
  },
  {
   "cell_type": "code",
   "execution_count": null,
   "id": "fafce3b4",
   "metadata": {},
   "outputs": [],
   "source": [
    "\n",
    "plt.figure(figsize=(15, 5))\n",
    "df_clean.set_index('Timestamp')[['GHI', 'DNI', 'DHI', 'Tamb']].plot()\n",
    "plt.title('Solar Metrics Over Time')\n",
    "plt.ylabel('Irradiance (W/m²) / Temperature (°C)')\n",
    "plt.grid()\n"
   ]
  },
  {
   "cell_type": "markdown",
   "id": "ec09b615",
   "metadata": {},
   "source": [
    "## Cleaning Impact on ModA & ModB"
   ]
  },
  {
   "cell_type": "code",
   "execution_count": null,
   "id": "a56d5ee2",
   "metadata": {},
   "outputs": [],
   "source": [
    "\n",
    "df['cleaned'] = (~(z_scores.abs() > 3)).all(axis=1)\n",
    "df.groupby('cleaned')[['ModA', 'ModB']].mean().plot(kind='bar')\n",
    "plt.title(\"ModA & ModB Averages Before vs After Cleaning\")\n"
   ]
  },
  {
   "cell_type": "markdown",
   "id": "89636419",
   "metadata": {},
   "source": [
    "## Correlation Matrix"
   ]
  },
  {
   "cell_type": "code",
   "execution_count": null,
   "id": "5deafc05",
   "metadata": {},
   "outputs": [],
   "source": [
    "\n",
    "corr_cols = ['GHI', 'DNI', 'DHI', 'TModA', 'TModB']\n",
    "sns.heatmap(df_clean[corr_cols].corr(), annot=True, cmap='coolwarm')\n",
    "plt.title(\"Correlation Heatmap\")\n"
   ]
  },
  {
   "cell_type": "markdown",
   "id": "14de6715",
   "metadata": {},
   "source": [
    "## Scatter Plots"
   ]
  },
  {
   "cell_type": "code",
   "execution_count": null,
   "id": "68bc170b",
   "metadata": {},
   "outputs": [],
   "source": [
    "\n",
    "sns.scatterplot(data=df_clean, x='WS', y='GHI')\n",
    "plt.title('Wind Speed vs GHI')\n"
   ]
  },
  {
   "cell_type": "code",
   "execution_count": null,
   "id": "8a7eeece",
   "metadata": {},
   "outputs": [],
   "source": [
    "\n",
    "sns.scatterplot(data=df_clean, x='RH', y='Tamb')\n",
    "plt.title('Humidity vs Ambient Temp')\n"
   ]
  },
  {
   "cell_type": "markdown",
   "id": "f15c03f8",
   "metadata": {},
   "source": [
    "## Wind Rose Plot"
   ]
  },
  {
   "cell_type": "code",
   "execution_count": null,
   "id": "8aff1739",
   "metadata": {},
   "outputs": [],
   "source": [
    "\n",
    "import numpy as np\n",
    "\n",
    "ws = df_clean['WS']\n",
    "wd = df_clean['WD']\n",
    "theta = np.radians(wd)\n",
    "r = ws\n",
    "\n",
    "plt.figure(figsize=(8, 8))\n",
    "ax = plt.subplot(111, polar=True)\n",
    "ax.scatter(theta, r, alpha=0.4)\n",
    "ax.set_title('Wind Rose (WS vs WD)')\n"
   ]
  },
  {
   "cell_type": "markdown",
   "id": "02aa57c4",
   "metadata": {},
   "source": [
    "## Histograms"
   ]
  },
  {
   "cell_type": "code",
   "execution_count": null,
   "id": "94d74615",
   "metadata": {},
   "outputs": [],
   "source": [
    "\n",
    "df_clean['GHI'].hist(bins=50)\n",
    "plt.title('Distribution of GHI')\n"
   ]
  },
  {
   "cell_type": "code",
   "execution_count": null,
   "id": "66bc3074",
   "metadata": {},
   "outputs": [],
   "source": [
    "\n",
    "df_clean['WS'].hist(bins=50)\n",
    "plt.title('Distribution of Wind Speed')\n"
   ]
  },
  {
   "cell_type": "markdown",
   "id": "3f60a0ec",
   "metadata": {},
   "source": [
    "## Bubble Plot: GHI vs Tamb (Size = RH)"
   ]
  },
  {
   "cell_type": "code",
   "execution_count": null,
   "id": "1d6c9bfc",
   "metadata": {},
   "outputs": [],
   "source": [
    "\n",
    "plt.figure(figsize=(10, 6))\n",
    "plt.scatter(df_clean['Tamb'], df_clean['GHI'],\n",
    "            s=df_clean['RH'], alpha=0.5, c=df_clean['RH'], cmap='viridis')\n",
    "plt.xlabel('Temperature (Tamb)')\n",
    "plt.ylabel('GHI')\n",
    "plt.title('Bubble Plot: GHI vs Tamb (size = RH)')\n"
   ]
  },
  {
   "cell_type": "markdown",
   "id": "1e349d17",
   "metadata": {},
   "source": [
    "## Export Cleaned Data"
   ]
  },
  {
   "cell_type": "code",
   "execution_count": null,
   "id": "d6aed268",
   "metadata": {},
   "outputs": [],
   "source": [
    "\n",
    "df_clean.to_csv('data/benin_clean.csv', index=False)\n"
   ]
  },
  {
   "cell_type": "markdown",
   "id": "8823b5e2",
   "metadata": {},
   "source": [
    "## Key Insights & Conclusion\n",
    "- Outliers in ModB and WSgust cleaned using Z-score > 3.\n",
    "- Missing values imputed using median for core features.\n",
    "- Relative Humidity influences temperature and GHI values.\n",
    "- Wind direction mostly concentrated in 3 directions.\n",
    "- Cleaned data ready for model and region ranking."
   ]
  }
 ],
 "metadata": {},
 "nbformat": 4,
 "nbformat_minor": 5
}
